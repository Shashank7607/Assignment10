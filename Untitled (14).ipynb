{
 "cells": [
  {
   "cell_type": "code",
   "execution_count": 11,
   "id": "64ec8977-97e9-411f-a4e3-16be727e279c",
   "metadata": {},
   "outputs": [],
   "source": [
    "#ans 1"
   ]
  },
  {
   "cell_type": "code",
   "execution_count": 12,
   "id": "1391672f-5b3b-4fb7-8e7f-231a41e43966",
   "metadata": {},
   "outputs": [],
   "source": [
    "#In Python, an exception is an error that occurs during the execution of a program that disrupts the normal flow of the program's instructions. When an exception occurs, Python raises an exception object which can then be handled by the program. Exceptions are an important mechanism for handling errors and preventing program crashes.\n",
    "\n",
    "#Syntax errors, on the other hand, are errors that occur when the program violates the syntax rules of the Python language. These errors are detected by the Python interpreter during the compilation phase, before the program is actually executed. Examples of syntax errors include missing or misplaced punctuation, misspelled keywords, and incorrect indentation.\n",
    "\n",
    "#The main difference between exceptions and syntax errors is that exceptions occur during the execution of the program, while syntax errors occur during the compilation phase before the program is executed. Syntax errors are generally easier to fix because the Python interpreter provides a detailed error message that indicates the specific line and character where the error occurred. In contrast, exceptions can be more difficult to diagnose and fix because they can occur at any point during the execution of the program and can be caused by a wide range of factors such as invalid user input or hardware failure."
   ]
  },
  {
   "cell_type": "code",
   "execution_count": 13,
   "id": "e60d686f-8651-4596-b86a-c871a03a3f33",
   "metadata": {},
   "outputs": [],
   "source": [
    "#ans 2"
   ]
  },
  {
   "cell_type": "code",
   "execution_count": 14,
   "id": "bc45b9c6-0d14-4a17-83d7-c08324001b96",
   "metadata": {},
   "outputs": [],
   "source": [
    "#When an exception is not handled in a Python program, it causes the program to terminate abruptly and display an error message to the user. This is because the default behavior of Python when an exception is raised and not handled is to terminate the program."
   ]
  },
  {
   "cell_type": "code",
   "execution_count": 16,
   "id": "391fdd51-31ae-4a9f-8829-b26a1936e529",
   "metadata": {},
   "outputs": [
    {
     "ename": "ZeroDivisionError",
     "evalue": "division by zero",
     "output_type": "error",
     "traceback": [
      "\u001b[0;31m---------------------------------------------------------------------------\u001b[0m",
      "\u001b[0;31mZeroDivisionError\u001b[0m                         Traceback (most recent call last)",
      "Cell \u001b[0;32mIn[16], line 3\u001b[0m\n\u001b[1;32m      1\u001b[0m numerator \u001b[38;5;241m=\u001b[39m \u001b[38;5;241m10\u001b[39m\n\u001b[1;32m      2\u001b[0m denominator \u001b[38;5;241m=\u001b[39m \u001b[38;5;241m0\u001b[39m\n\u001b[0;32m----> 3\u001b[0m result \u001b[38;5;241m=\u001b[39m \u001b[43mnumerator\u001b[49m\u001b[43m \u001b[49m\u001b[38;5;241;43m/\u001b[39;49m\u001b[43m \u001b[49m\u001b[43mdenominator\u001b[49m\n\u001b[1;32m      4\u001b[0m \u001b[38;5;28mprint\u001b[39m(result)\n",
      "\u001b[0;31mZeroDivisionError\u001b[0m: division by zero"
     ]
    }
   ],
   "source": [
    "numerator = 10\n",
    "denominator = 0\n",
    "result = numerator / denominator\n",
    "print(result)"
   ]
  },
  {
   "cell_type": "code",
   "execution_count": 17,
   "id": "dbf12fc2-ad9a-4f58-8b54-9a4dad7b9736",
   "metadata": {},
   "outputs": [],
   "source": [
    "#In this example, we're trying to divide the value of numerator by 0, which will result in a ZeroDivisionError exception. Since we have not provided any exception handling code, when this exception is raised, the program will terminate abruptly and display an error message like the following:"
   ]
  },
  {
   "cell_type": "code",
   "execution_count": 19,
   "id": "220f9e32-f97f-4f8a-b636-7439cb5cee52",
   "metadata": {},
   "outputs": [
    {
     "name": "stdout",
     "output_type": "stream",
     "text": [
      "division by zero\n"
     ]
    }
   ],
   "source": [
    "try:\n",
    "    a=10/0\n",
    "except ZeroDivisionError as e:\n",
    "    print(e)\n"
   ]
  },
  {
   "cell_type": "code",
   "execution_count": 20,
   "id": "89ee2c36-8466-4cc9-a91e-415b8afb784a",
   "metadata": {},
   "outputs": [],
   "source": [
    "#To avoid this kind of program termination and provide a more graceful error handling mechanism, we can use exception handling statements like try-except to catch and handle exceptions that may occur during program execution."
   ]
  },
  {
   "cell_type": "code",
   "execution_count": 21,
   "id": "4db18313-bd0d-42d0-a9fd-26e02d00ddb3",
   "metadata": {},
   "outputs": [],
   "source": [
    "#ans 3"
   ]
  },
  {
   "cell_type": "code",
   "execution_count": 22,
   "id": "f3f03dc5-7221-4f1d-adf5-ef9628d24709",
   "metadata": {},
   "outputs": [],
   "source": [
    "#In Python, we can use the try-except statements to catch and handle exceptions. The basic syntax of the try-except statements is as follows:"
   ]
  },
  {
   "cell_type": "code",
   "execution_count": 24,
   "id": "ba24f6eb-4bf9-48ac-977a-5edfefeca379",
   "metadata": {},
   "outputs": [
    {
     "name": "stdout",
     "output_type": "stream",
     "text": [
      "invalid literal for int() with base 10: 'shashank'\n"
     ]
    }
   ],
   "source": [
    "try:\n",
    "    int(\"shashank\")\n",
    "except (ValueError ,TypeError) as e :\n",
    "    print(e)"
   ]
  },
  {
   "cell_type": "code",
   "execution_count": 25,
   "id": "ffc6257e-c67a-4043-9480-61cc16529d08",
   "metadata": {},
   "outputs": [],
   "source": [
    "#ans 4"
   ]
  },
  {
   "cell_type": "code",
   "execution_count": 27,
   "id": "7aed17e1-b926-4c32-bad6-f5bf63a38c34",
   "metadata": {},
   "outputs": [
    {
     "name": "stdout",
     "output_type": "stream",
     "text": [
      "this will be executed once your try execute without error\n"
     ]
    }
   ],
   "source": [
    "try:\n",
    "    f=open(\"text.txt\" , 'w')\n",
    "    f.write(\"write into my file\")\n",
    "except Exception as e:\n",
    "    print(\"this is my except block\")\n",
    "else:\n",
    "    f.close()\n",
    "    print(\"this will be executed once your try execute without error\")\n",
    "    "
   ]
  },
  {
   "cell_type": "code",
   "execution_count": 28,
   "id": "845acb1b-9e88-44da-9fb5-5a3c4b03b3a4",
   "metadata": {},
   "outputs": [
    {
     "name": "stdout",
     "output_type": "stream",
     "text": [
      "finally will execute itself in any situation\n"
     ]
    }
   ],
   "source": [
    "try:\n",
    "    f=open(\"text2.txt\" , 'w')\n",
    "    f.write(\"write something\")\n",
    "finally:\n",
    "    print(\"finally will execute itself in any situation\")"
   ]
  },
  {
   "cell_type": "code",
   "execution_count": 29,
   "id": "35d2deba-afa4-4ca6-9036-92df9554469a",
   "metadata": {},
   "outputs": [
    {
     "name": "stdout",
     "output_type": "stream",
     "text": [
      "Error: Cannot calculate average of empty list\n"
     ]
    }
   ],
   "source": [
    "def calculate_average(numbers):\n",
    "    if not numbers:\n",
    "        raise ValueError(\"Cannot calculate average of empty list\")\n",
    "    total = sum(numbers)\n",
    "    average = total / len(numbers)\n",
    "    return average\n",
    "\n",
    "try:\n",
    "    numbers = []\n",
    "    average = calculate_average(numbers)\n",
    "    print(f\"The average of {numbers} is {average}\")\n",
    "except ValueError as e:\n",
    "    print(f\"Error: {e}\")\n"
   ]
  },
  {
   "cell_type": "code",
   "execution_count": 30,
   "id": "456ca067-83ce-421e-823e-0ca943d24341",
   "metadata": {},
   "outputs": [],
   "source": [
    "#ans 4"
   ]
  },
  {
   "cell_type": "code",
   "execution_count": 31,
   "id": "17578c06-6c7a-4168-aa73-56012a233ac0",
   "metadata": {},
   "outputs": [],
   "source": [
    "#In Python, custom exceptions are exceptions that we define ourselves, as opposed to using the built-in exceptions provided by the language. We can create our own exceptions by subclassing the built-in Exception class or one of its subclasses.\n",
    "\n",
    "#We need custom exceptions when we want to define our own specific types of errors that are not covered by the built-in exceptions. Custom exceptions can help make our code more organized, easier to read and maintain, and allow us to provide more meaningful error messages to our users."
   ]
  },
  {
   "cell_type": "code",
   "execution_count": 32,
   "id": "0edbf61f-be25-45d1-9459-9ce1ef20b5bd",
   "metadata": {},
   "outputs": [
    {
     "name": "stdout",
     "output_type": "stream",
     "text": [
      "Error: Laptop is out of stock\n"
     ]
    }
   ],
   "source": [
    "class OutOfStockError(Exception):\n",
    "    pass\n",
    "\n",
    "class Product:\n",
    "    def __init__(self, name, price, quantity):\n",
    "        self.name = name\n",
    "        self.price = price\n",
    "        self.quantity = quantity\n",
    "    \n",
    "    def sell(self, quantity):\n",
    "        if quantity > self.quantity:\n",
    "            raise OutOfStockError(f\"{self.name} is out of stock\")\n",
    "        self.quantity -= quantity\n",
    "        return self.price * quantity\n",
    "\n",
    "product = Product(\"Laptop\", 1000, 5)\n",
    "\n",
    "try:\n",
    "    revenue = product.sell(10)\n",
    "    print(f\"Sold 10 laptops for ${revenue}\")\n",
    "except OutOfStockError as e:\n",
    "    print(f\"Error: {e}\")\n"
   ]
  },
  {
   "cell_type": "code",
   "execution_count": 33,
   "id": "5e0b79f1-b15a-49f6-a008-63145bc71cf8",
   "metadata": {},
   "outputs": [],
   "source": [
    "#In this example, we have a custom exception called OutOfStockError that we've defined by subclassing the Exception class. We've also defined a Product class that represents a product with a name, price, and quantity. The Product class has a sell method that takes a quantity as input and returns the revenue from selling that many units of the product.\n",
    "\n",
    "#In the sell method, we're checking if the requested quantity is greater than the current quantity of the product. If it is, we're raising an OutOfStockError exception with a custom error message that includes the name of the product.\n",
    "\n",
    "#In the try block, we're creating a Product object with a quantity of 5, and then trying to sell 10 units of the product. Since the product is out of stock, the sell method will raise an OutOfStockError exception, which we catch in the except block. In the except block, we're printing an error message that includes the exception message."
   ]
  },
  {
   "cell_type": "code",
   "execution_count": null,
   "id": "a7d01684-bace-40af-9019-a7358d8d2221",
   "metadata": {},
   "outputs": [],
   "source": []
  }
 ],
 "metadata": {
  "kernelspec": {
   "display_name": "Python 3 (ipykernel)",
   "language": "python",
   "name": "python3"
  },
  "language_info": {
   "codemirror_mode": {
    "name": "ipython",
    "version": 3
   },
   "file_extension": ".py",
   "mimetype": "text/x-python",
   "name": "python",
   "nbconvert_exporter": "python",
   "pygments_lexer": "ipython3",
   "version": "3.10.8"
  }
 },
 "nbformat": 4,
 "nbformat_minor": 5
}
